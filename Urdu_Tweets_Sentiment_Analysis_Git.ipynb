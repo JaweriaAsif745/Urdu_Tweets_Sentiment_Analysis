{
 "cells": [
  {
   "cell_type": "markdown",
   "id": "67f86903",
   "metadata": {},
   "source": [
    "## Importing Libraries"
   ]
  },
  {
   "cell_type": "code",
   "execution_count": 49,
   "id": "df7ea6aa",
   "metadata": {
    "scrolled": true
   },
   "outputs": [],
   "source": [
    "import pandas as pd\n",
    "import emoji\n",
    "\n",
    "import matplotlib.pyplot as plt \n",
    "\n",
    "from sklearn.model_selection import train_test_split\n",
    "from sklearn.preprocessing import LabelEncoder\n",
    "from imblearn.over_sampling import SMOTE\n",
    "\n",
    "import nltk\n",
    "from nltk.tokenize import word_tokenize\n"
   ]
  },
  {
   "cell_type": "code",
   "execution_count": 2,
   "id": "33bcaaaa",
   "metadata": {},
   "outputs": [],
   "source": [
    "from tensorflow.keras.preprocessing.text import Tokenizer\n",
    "from tensorflow.keras.preprocessing.sequence import pad_sequences\n",
    "from keras.models import Sequential\n",
    "from keras.layers import Embedding, LSTM, Dense, Dropout, GRU, BatchNormalization\n",
    "from keras.utils import to_categorical"
   ]
  },
  {
   "cell_type": "code",
   "execution_count": 51,
   "id": "2096f5fb",
   "metadata": {},
   "outputs": [
    {
     "name": "stderr",
     "output_type": "stream",
     "text": [
      "[nltk_data] Downloading package punkt_tab to\n",
      "[nltk_data]     C:\\Users\\PC\\AppData\\Roaming\\nltk_data...\n",
      "[nltk_data]   Unzipping tokenizers\\punkt_tab.zip.\n"
     ]
    },
    {
     "data": {
      "text/plain": [
       "True"
      ]
     },
     "execution_count": 51,
     "metadata": {},
     "output_type": "execute_result"
    }
   ],
   "source": [
    "# nltk.download('punkt_tab')"
   ]
  },
  {
   "cell_type": "markdown",
   "id": "3d266647",
   "metadata": {},
   "source": [
    "## Importing Dataset with 200000 rows"
   ]
  },
  {
   "cell_type": "code",
   "execution_count": 3,
   "id": "36a636a0",
   "metadata": {},
   "outputs": [],
   "source": [
    "# df = pd.read_csv(\"Urdu Tweets Dataset.csv\").sample(n=200000, random_state=1)"
   ]
  },
  {
   "cell_type": "code",
   "execution_count": 4,
   "id": "1f6f81da",
   "metadata": {},
   "outputs": [],
   "source": [
    "# df = pd.read_csv(\"Urdu Tweets Dataset.csv\")"
   ]
  },
  {
   "cell_type": "code",
   "execution_count": 5,
   "id": "8c3dc5fc",
   "metadata": {},
   "outputs": [],
   "source": [
    "# df.shape\n"
   ]
  },
  {
   "cell_type": "code",
   "execution_count": 6,
   "id": "7fa3e76d",
   "metadata": {},
   "outputs": [],
   "source": [
    "# df = td.sample(n=200000, random_state=1)"
   ]
  },
  {
   "cell_type": "code",
   "execution_count": 8,
   "id": "5f487bf0",
   "metadata": {},
   "outputs": [],
   "source": [
    "# df.to_csv('Tweets.csv', index=False)"
   ]
  },
  {
   "cell_type": "code",
   "execution_count": null,
   "id": "5bf9b6cd",
   "metadata": {},
   "outputs": [],
   "source": []
  },
  {
   "cell_type": "markdown",
   "id": "e9699ddb",
   "metadata": {},
   "source": [
    "## Importing Saved Dataset"
   ]
  },
  {
   "cell_type": "code",
   "execution_count": 9,
   "id": "d706fdf9",
   "metadata": {},
   "outputs": [],
   "source": [
    "df = pd.read_csv(\"Tweets.csv\")"
   ]
  },
  {
   "cell_type": "markdown",
   "id": "5a85b262",
   "metadata": {},
   "source": [
    "## Data Preprocessing"
   ]
  },
  {
   "cell_type": "code",
   "execution_count": 10,
   "id": "f5c82101",
   "metadata": {},
   "outputs": [
    {
     "data": {
      "text/plain": [
       "Id              0\n",
       "Text            0\n",
       "Emotions        0\n",
       "Category    98201\n",
       "dtype: int64"
      ]
     },
     "execution_count": 10,
     "metadata": {},
     "output_type": "execute_result"
    }
   ],
   "source": [
    "df.isnull().sum()"
   ]
  },
  {
   "cell_type": "code",
   "execution_count": 11,
   "id": "2ba40230",
   "metadata": {},
   "outputs": [],
   "source": [
    "\n",
    "df.dropna(inplace=True)"
   ]
  },
  {
   "cell_type": "code",
   "execution_count": 12,
   "id": "a27e2b4b",
   "metadata": {},
   "outputs": [
    {
     "data": {
      "text/plain": [
       "Id          0\n",
       "Text        0\n",
       "Emotions    0\n",
       "Category    0\n",
       "dtype: int64"
      ]
     },
     "execution_count": 12,
     "metadata": {},
     "output_type": "execute_result"
    }
   ],
   "source": [
    "df.isnull().sum()"
   ]
  },
  {
   "cell_type": "code",
   "execution_count": 13,
   "id": "098713c8",
   "metadata": {},
   "outputs": [
    {
     "data": {
      "text/plain": [
       "(101799, 4)"
      ]
     },
     "execution_count": 13,
     "metadata": {},
     "output_type": "execute_result"
    }
   ],
   "source": [
    "df.shape"
   ]
  },
  {
   "cell_type": "code",
   "execution_count": 14,
   "id": "bd70480c",
   "metadata": {},
   "outputs": [],
   "source": [
    "df.drop(columns=['Id', 'Emotions'],inplace=True)"
   ]
  },
  {
   "cell_type": "code",
   "execution_count": 15,
   "id": "ce022660",
   "metadata": {},
   "outputs": [
    {
     "data": {
      "text/html": [
       "<div>\n",
       "<style scoped>\n",
       "    .dataframe tbody tr th:only-of-type {\n",
       "        vertical-align: middle;\n",
       "    }\n",
       "\n",
       "    .dataframe tbody tr th {\n",
       "        vertical-align: top;\n",
       "    }\n",
       "\n",
       "    .dataframe thead th {\n",
       "        text-align: right;\n",
       "    }\n",
       "</style>\n",
       "<table border=\"1\" class=\"dataframe\">\n",
       "  <thead>\n",
       "    <tr style=\"text-align: right;\">\n",
       "      <th></th>\n",
       "      <th>Text</th>\n",
       "      <th>Category</th>\n",
       "    </tr>\n",
       "  </thead>\n",
       "  <tbody>\n",
       "    <tr>\n",
       "      <th>1</th>\n",
       "      <td>~*ْﮩﮫﮫﮫﮫﮫﮫﮫﮫﮫﮫﮫﮫﮫﮫﮫﮫﮫﮫﮫﮫﮫﮫﮫﮫﮫﮫﮫﮩہ۽௸🏌🏻♂😹♥ֆ *~⠉̮⃝✌</td>\n",
       "      <td>Joy</td>\n",
       "    </tr>\n",
       "    <tr>\n",
       "      <th>3</th>\n",
       "      <td>آپ کی شادی کب ہے اور کیا گیارہ گیارہ سے ہے؟😂</td>\n",
       "      <td>Joy</td>\n",
       "    </tr>\n",
       "  </tbody>\n",
       "</table>\n",
       "</div>"
      ],
      "text/plain": [
       "                                               Text Category\n",
       "1  ~*ْﮩﮫﮫﮫﮫﮫﮫﮫﮫﮫﮫﮫﮫﮫﮫﮫﮫﮫﮫﮫﮫﮫﮫﮫﮫﮫﮫﮫﮩہ۽௸🏌🏻♂😹♥ֆ *~⠉̮⃝✌      Joy\n",
       "3      آپ کی شادی کب ہے اور کیا گیارہ گیارہ سے ہے؟😂      Joy"
      ]
     },
     "execution_count": 15,
     "metadata": {},
     "output_type": "execute_result"
    }
   ],
   "source": [
    "df.head(2)"
   ]
  },
  {
   "cell_type": "markdown",
   "id": "0fec4c9f",
   "metadata": {},
   "source": [
    "## Categorizing sentiments"
   ]
  },
  {
   "cell_type": "code",
   "execution_count": 16,
   "id": "d91b86c0",
   "metadata": {},
   "outputs": [],
   "source": [
    "def categorize_sentiment(emotion):\n",
    "    positive_emotions = [\"joy\", \"surprise\"]  # List of positive emotions (lowercase for uniformity)\n",
    "    negative_emotions = [\"sad\", \"angry\", \"disgust\", \"fear\"]  # List of negative emotions (lowercase)\n",
    "\n",
    "    # Normalize input to a list of emotions for consistent handling\n",
    "    if isinstance(emotion, str):\n",
    "        # Remove brackets, quotes, and extra spaces, then split into a list\n",
    "        emotion_list = [e.strip().lower() for e in emotion.replace('[', '').replace(']', '').replace(\"'\", '').split(',')]\n",
    "    elif isinstance(emotion, list):\n",
    "        # Convert list items to lowercase\n",
    "        emotion_list = [e.strip().lower() for e in emotion]\n",
    "    else:\n",
    "        emotion_list = []\n",
    "\n",
    "    # Check for presence of positive or negative emotions\n",
    "    has_positive = any(e in positive_emotions for e in emotion_list)\n",
    "    has_negative = any(e in negative_emotions for e in emotion_list)\n",
    "\n",
    "    # Determine sentiment based on the presence of emotions\n",
    "    if has_positive and not has_negative:\n",
    "        return \"good\"\n",
    "    elif has_negative and not has_positive:\n",
    "        return \"bad\"\n",
    "    elif has_positive and has_negative:\n",
    "        return \"mixed\"\n",
    "#     else:\n",
    "#         return \"neutral\"\n"
   ]
  },
  {
   "cell_type": "code",
   "execution_count": 17,
   "id": "8a074620",
   "metadata": {},
   "outputs": [],
   "source": [
    "df['Values'] = df['Category'].apply(categorize_sentiment)"
   ]
  },
  {
   "cell_type": "code",
   "execution_count": 18,
   "id": "287e6554",
   "metadata": {},
   "outputs": [
    {
     "data": {
      "text/plain": [
       "Values\n",
       "good     85908\n",
       "bad      13687\n",
       "mixed     1895\n",
       "Name: count, dtype: int64"
      ]
     },
     "execution_count": 18,
     "metadata": {},
     "output_type": "execute_result"
    }
   ],
   "source": [
    "df['Values'].value_counts()"
   ]
  },
  {
   "cell_type": "code",
   "execution_count": 19,
   "id": "41ec914b",
   "metadata": {},
   "outputs": [
    {
     "data": {
      "text/html": [
       "<div>\n",
       "<style scoped>\n",
       "    .dataframe tbody tr th:only-of-type {\n",
       "        vertical-align: middle;\n",
       "    }\n",
       "\n",
       "    .dataframe tbody tr th {\n",
       "        vertical-align: top;\n",
       "    }\n",
       "\n",
       "    .dataframe thead th {\n",
       "        text-align: right;\n",
       "    }\n",
       "</style>\n",
       "<table border=\"1\" class=\"dataframe\">\n",
       "  <thead>\n",
       "    <tr style=\"text-align: right;\">\n",
       "      <th></th>\n",
       "      <th>Text</th>\n",
       "      <th>Category</th>\n",
       "      <th>Values</th>\n",
       "    </tr>\n",
       "  </thead>\n",
       "  <tbody>\n",
       "    <tr>\n",
       "      <th>90958</th>\n",
       "      <td>لڑکیوں کیطرح ڈی ایم چھپایا ہوا ہے، مغل صاحب خی...</td>\n",
       "      <td>Joy , Joy</td>\n",
       "      <td>good</td>\n",
       "    </tr>\n",
       "    <tr>\n",
       "      <th>23775</th>\n",
       "      <td>افسوس ہم پاکستانی قوم آزادی کے 70 سال بعد بھی ...</td>\n",
       "      <td>Sad</td>\n",
       "      <td>bad</td>\n",
       "    </tr>\n",
       "    <tr>\n",
       "      <th>67566</th>\n",
       "      <td>باباجی کہتے ہیں انسان کی آدھی خوبصورتی اس کی ز...</td>\n",
       "      <td>['Sad']</td>\n",
       "      <td>bad</td>\n",
       "    </tr>\n",
       "    <tr>\n",
       "      <th>176909</th>\n",
       "      <td>بجا فرمایا عوامی مافیا بھی جو سابقہ چور حکمران...</td>\n",
       "      <td>['Joy']</td>\n",
       "      <td>good</td>\n",
       "    </tr>\n",
       "    <tr>\n",
       "      <th>142252</th>\n",
       "      <td>ذرائع کے مطابق یہ سن کر شہبازشریف غش کھا کر گر...</td>\n",
       "      <td>Joy</td>\n",
       "      <td>good</td>\n",
       "    </tr>\n",
       "    <tr>\n",
       "      <th>7190</th>\n",
       "      <td>ہاؤ اسٹرونگ یو آر😍👌</td>\n",
       "      <td>Joy</td>\n",
       "      <td>good</td>\n",
       "    </tr>\n",
       "    <tr>\n",
       "      <th>162996</th>\n",
       "      <td>پریشانیوں 🤯کو ایسے ہی نظر انداز کرو 😇 جیسے .....</td>\n",
       "      <td>Joy</td>\n",
       "      <td>good</td>\n",
       "    </tr>\n",
       "    <tr>\n",
       "      <th>47925</th>\n",
       "      <td>تجھے پانے کےبعد اور کچھ نہ مانگو❤ خدا جانتا ہ...</td>\n",
       "      <td>Joy</td>\n",
       "      <td>good</td>\n",
       "    </tr>\n",
       "    <tr>\n",
       "      <th>89520</th>\n",
       "      <td>مفت کے ہیں جو اٹھا کر لے جائیں گے کراچی کی طرف...</td>\n",
       "      <td>['Joy']</td>\n",
       "      <td>good</td>\n",
       "    </tr>\n",
       "    <tr>\n",
       "      <th>114150</th>\n",
       "      <td>حالانکہ غالب اتنے اچھے شاعر تھے 😜😜😜</td>\n",
       "      <td>['Joy']</td>\n",
       "      <td>good</td>\n",
       "    </tr>\n",
       "  </tbody>\n",
       "</table>\n",
       "</div>"
      ],
      "text/plain": [
       "                                                     Text   Category Values\n",
       "90958   لڑکیوں کیطرح ڈی ایم چھپایا ہوا ہے، مغل صاحب خی...  Joy , Joy   good\n",
       "23775   افسوس ہم پاکستانی قوم آزادی کے 70 سال بعد بھی ...        Sad    bad\n",
       "67566   باباجی کہتے ہیں انسان کی آدھی خوبصورتی اس کی ز...    ['Sad']    bad\n",
       "176909  بجا فرمایا عوامی مافیا بھی جو سابقہ چور حکمران...    ['Joy']   good\n",
       "142252  ذرائع کے مطابق یہ سن کر شہبازشریف غش کھا کر گر...        Joy   good\n",
       "7190                                  ہاؤ اسٹرونگ یو آر😍👌        Joy   good\n",
       "162996   پریشانیوں 🤯کو ایسے ہی نظر انداز کرو 😇 جیسے .....        Joy   good\n",
       "47925    تجھے پانے کےبعد اور کچھ نہ مانگو❤ خدا جانتا ہ...        Joy   good\n",
       "89520   مفت کے ہیں جو اٹھا کر لے جائیں گے کراچی کی طرف...    ['Joy']   good\n",
       "114150                حالانکہ غالب اتنے اچھے شاعر تھے 😜😜😜    ['Joy']   good"
      ]
     },
     "execution_count": 19,
     "metadata": {},
     "output_type": "execute_result"
    }
   ],
   "source": [
    "df.sample(10)"
   ]
  },
  {
   "cell_type": "code",
   "execution_count": 20,
   "id": "185c4685",
   "metadata": {},
   "outputs": [],
   "source": [
    "emotions_to_remove = ['mixed', 'neutral']\n",
    "df = df[~df[\"Values\"].isin(emotions_to_remove)]"
   ]
  },
  {
   "cell_type": "code",
   "execution_count": 21,
   "id": "b41dbb55",
   "metadata": {},
   "outputs": [
    {
     "data": {
      "text/plain": [
       "Values\n",
       "good    85908\n",
       "bad     13687\n",
       "Name: count, dtype: int64"
      ]
     },
     "execution_count": 21,
     "metadata": {},
     "output_type": "execute_result"
    }
   ],
   "source": [
    "df['Values'].value_counts()"
   ]
  },
  {
   "cell_type": "code",
   "execution_count": 22,
   "id": "b1ae8d3b",
   "metadata": {},
   "outputs": [
    {
     "data": {
      "text/plain": [
       "[<matplotlib.lines.Line2D at 0x2114f700f70>]"
      ]
     },
     "execution_count": 22,
     "metadata": {},
     "output_type": "execute_result"
    },
    {
     "data": {
      "image/png": "[encoded data removed]",
      "text/plain": [
       "<Figure size 640x480 with 1 Axes>"
      ]
     },
     "metadata": {},
     "output_type": "display_data"
    }
   ],
   "source": [
    "plt.plot(df['Values'].value_counts())"
   ]
  },
  {
   "cell_type": "code",
   "execution_count": 52,
   "id": "2a89602d",
   "metadata": {},
   "outputs": [],
   "source": [
    "good = df[df['Values'] == 'good'].sample(20000, random_state=1)\n",
    "mixed = df[df['Values'] == 'mixed']\n",
    "neutral = df[df['Values'] == 'neutral']\n",
    "bad = df[df['Values'] == 'bad']\n",
    "\n",
    "\n"
   ]
  },
  {
   "cell_type": "code",
   "execution_count": 53,
   "id": "f8ee25fd",
   "metadata": {},
   "outputs": [
    {
     "data": {
      "text/plain": [
       "((20000, 3), (13687, 3), (0, 3), (0, 3))"
      ]
     },
     "execution_count": 53,
     "metadata": {},
     "output_type": "execute_result"
    }
   ],
   "source": [
    "good.shape, bad.shape, mixed.shape, neutral.shape"
   ]
  },
  {
   "cell_type": "markdown",
   "id": "6c825965",
   "metadata": {},
   "source": [
    "## Data Balancing"
   ]
  },
  {
   "cell_type": "code",
   "execution_count": 54,
   "id": "cbdbcc4e",
   "metadata": {},
   "outputs": [],
   "source": [
    "from sklearn.utils import resample\n",
    "\n",
    "# Upsample 'mixed', 'bad', and 'neutral' to match the 'good' class size\n",
    "# mixed_upsampled = resample(mixed, replace=True, n_samples=len(good), random_state=1)\n",
    "bad_upsampled = resample(bad, replace=True, n_samples=len(good), random_state=1)\n",
    "# neutral_upsampled = resample(neutral, replace=True, n_samples=len(good), random_state=1)\n",
    "\n"
   ]
  },
  {
   "cell_type": "code",
   "execution_count": 55,
   "id": "dab7ba94",
   "metadata": {},
   "outputs": [],
   "source": [
    "# Combine the oversampled data with the 'good' class\n",
    "# balanced_df = pd.concat([good, mixed_upsampled, bad_upsampled, neutral_upsampled])\n",
    "balanced_df = pd.concat([good, bad_upsampled, ])\n",
    "\n",
    "# Shuffle the dataset to ensure randomness\n",
    "balanced_df = balanced_df.sample(frac=1, random_state=1).reset_index(drop=True)\n"
   ]
  },
  {
   "cell_type": "code",
   "execution_count": 56,
   "id": "3f9eb1b7",
   "metadata": {},
   "outputs": [
    {
     "data": {
      "text/plain": [
       "(40000, 3)"
      ]
     },
     "execution_count": 56,
     "metadata": {},
     "output_type": "execute_result"
    }
   ],
   "source": [
    "balanced_df.shape"
   ]
  },
  {
   "cell_type": "code",
   "execution_count": 57,
   "id": "397f3151",
   "metadata": {},
   "outputs": [
    {
     "data": {
      "text/plain": [
       "[<matplotlib.lines.Line2D at 0x211554f86d0>]"
      ]
     },
     "execution_count": 57,
     "metadata": {},
     "output_type": "execute_result"
    },
    {
     "data": {
      "image/png": "[encoded data removed]",
      "text/plain": [
       "<Figure size 640x480 with 1 Axes>"
      ]
     },
     "metadata": {},
     "output_type": "display_data"
    }
   ],
   "source": [
    "plt.plot(balanced_df['Values'].value_counts())"
   ]
  },
  {
   "cell_type": "markdown",
   "id": "37bd83b5",
   "metadata": {},
   "source": [
    "# Lemmetization"
   ]
  },
  {
   "cell_type": "code",
   "execution_count": 58,
   "id": "e009543f",
   "metadata": {},
   "outputs": [],
   "source": [
    "# !pip install urduhack\n"
   ]
  },
  {
   "cell_type": "code",
   "execution_count": null,
   "id": "7d75ebe7",
   "metadata": {},
   "outputs": [],
   "source": []
  },
  {
   "cell_type": "code",
   "execution_count": 59,
   "id": "701a8ce2",
   "metadata": {},
   "outputs": [],
   "source": [
    "from LughaatNLP import LughaatNLP, POS_urdu, NER_Urdu, TextSummarization, UrduSpeech\n",
    "# For Normalization, Lemmetization/Stemming, Stopwords Removing and Spell CEking\n",
    "from LughaatNLP import NER_Urdu\n",
    "from LughaatNLP import POS_urdu\n",
    "from LughaatNLP import LughaatNLP\n",
    "urdu_text_processing = LughaatNLP()\n",
    "\n",
    "\n",
    "\n",
    "\n",
    "# # For Part of Speech\n",
    "# pos_tagger = POS_urdu()\n",
    "\n",
    "# # For Name Entity Relation\n",
    "# ner_urdu = NER_Urdu()\n"
   ]
  },
  {
   "cell_type": "code",
   "execution_count": 60,
   "id": "49a3ec5f",
   "metadata": {},
   "outputs": [],
   "source": [
    "from LughaatNLP import LughaatNLP\n",
    "from LughaatNLP import POS_urdu, NER_Urdu\n",
    "\n",
    "# Initialize the NLP tools\n",
    "urdu_normalizer = LughaatNLP()\n",
    "# ner_urdu = NER_Urdu()\n",
    "# pos_tagger = POS_urdu()\n",
    "\n",
    "def preprocess_text(text):\n",
    "    # Normalize the text\n",
    "    normalized_text = urdu_normalizer.normalize(text)\n",
    "    \n",
    "    # Tokenize the text\n",
    "    tokens = urdu_normalizer.urdu_tokenize(normalized_text)\n",
    "    \n",
    "    # Remove stopwords\n",
    "    urdu_stopwords = urdu_normalizer.remove_stopwords(text)  # Ensure you have the stopwords loaded\n",
    "    filtered_tokens = [word for word in tokens if word not in urdu_stopwords]\n",
    "\n",
    "    # Lemmatize the tokens\n",
    "    lemmatized_tokens = [urdu_normalizer.lemmatize_sentence(word) for word in filtered_tokens]\n",
    "    print(lemmatized_tokens)\n",
    "    \n",
    "    \n",
    "    # Join the tokens back into a string\n",
    "    processed_text = ' '.join(lemmatized_tokens)\n",
    "    \n",
    "    return processed_text\n"
   ]
  },
  {
   "cell_type": "code",
   "execution_count": 61,
   "id": "b637b66f",
   "metadata": {
    "scrolled": true
   },
   "outputs": [
    {
     "data": {
      "text/plain": [
       "'زندگی بہت خوبصورت ہے، ہر لمحہ قیمتی ہے'"
      ]
     },
     "execution_count": 61,
     "metadata": {},
     "output_type": "execute_result"
    }
   ],
   "source": [
    "urdu_normalizer.normalize(\"زندگی بہت خوبصورت ہے، ہر لمحہ قیمتی ہے\")\n"
   ]
  },
  {
   "cell_type": "code",
   "execution_count": 62,
   "id": "8729e5e8",
   "metadata": {},
   "outputs": [
    {
     "data": {
      "text/plain": [
       "['زندگی', 'بہت', 'خوبصورت', 'ہے،', 'ہر', 'لمحہ', 'قیمتی', 'ہے']"
      ]
     },
     "execution_count": 62,
     "metadata": {},
     "output_type": "execute_result"
    }
   ],
   "source": [
    "urdu_normalizer.urdu_tokenize(\"زندگی بہت خوبصورت ہے، ہر لمحہ قیمتی ہے\")"
   ]
  },
  {
   "cell_type": "code",
   "execution_count": 63,
   "id": "48d39ae0",
   "metadata": {},
   "outputs": [],
   "source": [
    "words= urdu_normalizer.remove_stopwords(\"زندگی بہت خوبصورت ہے، ہر لمحہ قیمتی ہے\")"
   ]
  },
  {
   "cell_type": "code",
   "execution_count": 64,
   "id": "c4925ac2",
   "metadata": {},
   "outputs": [
    {
     "name": "stdout",
     "output_type": "stream",
     "text": [
      "ز\n",
      "ن\n",
      "د\n",
      "گ\n",
      "ی\n",
      " \n",
      "خ\n",
      "و\n",
      "ب\n",
      "ص\n",
      "و\n",
      "ر\n",
      "ت\n",
      " \n",
      "ہ\n",
      "ے\n",
      "،\n",
      " \n",
      "ل\n",
      "م\n",
      "ح\n",
      "ہ\n",
      " \n",
      "ق\n",
      "ی\n",
      "م\n",
      "ت\n",
      "ی\n"
     ]
    }
   ],
   "source": [
    " # Lemmatize the tokens\n",
    "for word in words:\n",
    "    urdu_normalizer.lemmatize_sentence(word)\n",
    "    print(word)"
   ]
  },
  {
   "cell_type": "code",
   "execution_count": 65,
   "id": "6c0342a2",
   "metadata": {},
   "outputs": [],
   "source": [
    "urdu_stopwords = [\n",
    "    'اور', 'کی', 'ہے', 'کا', 'یہ', 'تھا', 'میں', 'نے', 'تھی', 'ہو', 'کہ', \n",
    "    'پر', 'جب', 'جو', 'کے', 'ایک', 'ان', 'یا', 'تک', 'لیکن', 'یہاں', 'تھی',\n",
    "    'وہ', 'سب', 'کچھ', 'جو', 'ہم', 'نہیں', 'یہ', 'تھا', 'توں', 'آپ', \n",
    "    'انکی', 'اسی', 'اگر', 'ہاں', 'آج', 'بھی', 'کہاں', 'تھوڑا', 'اور', \n",
    "    'ہمارا', 'تم', 'تھا', 'ہو', 'کبھی', 'اس', 'اسکی', 'میرا', 'میری',\n",
    "    'کیا', 'جبکہ', 'اسکے', 'اسکا', 'لیے', 'پر', 'تھا', 'پہ', 'تھے',\n",
    "    'ہونا', 'ہونا', 'ہوگا', 'ہوئی', 'ہوتا', 'ہوئی', 'ہوتی', 'ہوں',\n",
    "    'انکا', 'انکے', 'آنے', 'کی', 'پھر', 'ان', 'تھیں', 'آتا', 'آتی',\n",
    "    'آئے', 'کچھ', 'بس', 'ہے', 'سے', 'لیکن', 'علاوہ', 'تاہم', \n",
    "    'یہی', 'وہی', 'اسی', 'یہاں', 'کہیں', 'کبھی', 'خود', 'کسی', \n",
    "    'نہ', 'کون', 'ہوتا', 'ہوتی', 'آج', 'نہیں', 'یہ', 'کیا', 'بس'\n",
    "]\n"
   ]
  },
  {
   "cell_type": "code",
   "execution_count": 66,
   "id": "1bd97411",
   "metadata": {},
   "outputs": [],
   "source": [
    "urdu_normalizer = LughaatNLP()"
   ]
  },
  {
   "cell_type": "code",
   "execution_count": 67,
   "id": "6c11452a",
   "metadata": {},
   "outputs": [],
   "source": [
    "def preprocess_text(text):\n",
    "    \n",
    "    # text in lowercase\n",
    "    text = text.lower()\n",
    "\n",
    "    \n",
    "    # Keep emojis and remove other special characters and punctuation\n",
    "    text = ''.join(c for c in text if c.isalnum() or c in emoji.EMOJI_DATA or c.isspace())\n",
    "\n",
    "    # Remove punctuation and special characters\n",
    "    # text = re.sub(r'[^\\w\\s]', '', text)\n",
    "    \n",
    "    # tokenization\n",
    "    words = word_tokenize(text)\n",
    "#     print(words[:10])\n",
    "    \n",
    "    # Remove stopwords \n",
    "    words = [word for word in words if word not in urdu_stopwords]\n",
    "    \n",
    "    lemmatized_tokens = [urdu_normalizer.lemmatize_sentence(word) for word in words]\n",
    "#     print(lemmatized_tokens)\n",
    "    \n",
    "    \n",
    "    #     join the tokens in string again    \n",
    "    return ' '.join(lemmatized_tokens)\n",
    "\n",
    "    \n",
    "    \n",
    "    "
   ]
  },
  {
   "cell_type": "code",
   "execution_count": 68,
   "id": "6d96904c",
   "metadata": {},
   "outputs": [
    {
     "name": "stdout",
     "output_type": "stream",
     "text": [
      "['COMBINE_URDU_CHARACTERS', 'CORRECT_URDU_CHARACTERS_MAPPING', 'ENG_URDU_DIGITS_MAP', 'REMOVE_SPACE_BEFORE_PUNCTUATIONS_RE', 'SPACE_AFTER_PUNCTUATIONS_RE', 'URDU_ENG_DIGITS_MAP', 'URDU_PUNCTUATIONS', '__class__', '__delattr__', '__dict__', '__dir__', '__doc__', '__eq__', '__format__', '__ge__', '__getattribute__', '__gt__', '__hash__', '__init__', '__init_subclass__', '__le__', '__lt__', '__module__', '__ne__', '__new__', '__reduce__', '__reduce_ex__', '__repr__', '__setattr__', '__sizeof__', '__str__', '__subclasshook__', '__weakref__', 'all_words', 'corrected_sentence_spelling', 'get_similar_words', 'get_similar_words_percentage', 'just_urdu', 'lemmatization_dict', 'lemmatize_sentence', 'logger', 'most_similar_word', 'normalize', 'normalize_characters', 'normalize_combine_characters', 'preserve_special_characters', 'punctuations_space', 'pure_urdu', 'remove_diacritics', 'remove_english', 'remove_numbers', 'remove_numbers_english', 'remove_numbers_urdu', 'remove_special_characters', 'remove_special_characters_exceptUrdu', 'remove_stopwords', 'remove_urls', 'remove_whitespace', 'replace_digits', 'rules', 'stopwords_data', 'tokenizer_word_index', 'urdu_stemmer', 'urdu_tokenize']\n"
     ]
    }
   ],
   "source": [
    "from LughaatNLP import LughaatNLP\n",
    "\n",
    "urdu_text_processing = LughaatNLP()\n",
    "print(dir(urdu_text_processing))\n"
   ]
  },
  {
   "cell_type": "code",
   "execution_count": 69,
   "id": "8947cb19",
   "metadata": {
    "scrolled": true
   },
   "outputs": [],
   "source": [
    "balanced_df['Cleaned_text'] = balanced_df['Text'].apply(preprocess_text)"
   ]
  },
  {
   "cell_type": "code",
   "execution_count": 70,
   "id": "42c7b318",
   "metadata": {},
   "outputs": [
    {
     "data": {
      "text/html": [
       "<div>\n",
       "<style scoped>\n",
       "    .dataframe tbody tr th:only-of-type {\n",
       "        vertical-align: middle;\n",
       "    }\n",
       "\n",
       "    .dataframe tbody tr th {\n",
       "        vertical-align: top;\n",
       "    }\n",
       "\n",
       "    .dataframe thead th {\n",
       "        text-align: right;\n",
       "    }\n",
       "</style>\n",
       "<table border=\"1\" class=\"dataframe\">\n",
       "  <thead>\n",
       "    <tr style=\"text-align: right;\">\n",
       "      <th></th>\n",
       "      <th>Text</th>\n",
       "      <th>Category</th>\n",
       "      <th>Values</th>\n",
       "      <th>Cleaned_text</th>\n",
       "    </tr>\n",
       "  </thead>\n",
       "  <tbody>\n",
       "    <tr>\n",
       "      <th>0</th>\n",
       "      <td>دونوں۔۔😍</td>\n",
       "      <td>Joy</td>\n",
       "      <td>good</td>\n",
       "      <td>دونوں😍</td>\n",
       "    </tr>\n",
       "    <tr>\n",
       "      <th>1</th>\n",
       "      <td>مگر اک ملاقات توضروری ہے صنم😉 محمد زبیر کا آرم...</td>\n",
       "      <td>Joy</td>\n",
       "      <td>good</td>\n",
       "      <td>مگر اک ملاقات توضروری صنم😉 محمد زبیر آرمی چیف ...</td>\n",
       "    </tr>\n",
       "    <tr>\n",
       "      <th>2</th>\n",
       "      <td>ایک تاریک رات کو ایک ماں اور ایک باپ کا ملاپ ہ...</td>\n",
       "      <td>['Joy']</td>\n",
       "      <td>good</td>\n",
       "      <td>تاریک رات کو ماں باپ ملاپ رات ماں باپ بچہ کو ج...</td>\n",
       "    </tr>\n",
       "    <tr>\n",
       "      <th>3</th>\n",
       "      <td>آج شمالی وزیرستان میں ناہیدہ گل جو ہیلتھ کیئر ...</td>\n",
       "      <td>Sad</td>\n",
       "      <td>bad</td>\n",
       "      <td>شمالی وزیرستان ناہیدہ گل ہیلتھ کیئر ورکر کو سر...</td>\n",
       "    </tr>\n",
       "    <tr>\n",
       "      <th>4</th>\n",
       "      <td>کیا ذو معنویت ہے سبحان اللہ 😜😊</td>\n",
       "      <td>Joy</td>\n",
       "      <td>good</td>\n",
       "      <td>ذو معنویت سبحان اللہ 😜😊</td>\n",
       "    </tr>\n",
       "  </tbody>\n",
       "</table>\n",
       "</div>"
      ],
      "text/plain": [
       "                                                Text Category Values  \\\n",
       "0                                           دونوں۔۔😍      Joy   good   \n",
       "1  مگر اک ملاقات توضروری ہے صنم😉 محمد زبیر کا آرم...      Joy   good   \n",
       "2  ایک تاریک رات کو ایک ماں اور ایک باپ کا ملاپ ہ...  ['Joy']   good   \n",
       "3  آج شمالی وزیرستان میں ناہیدہ گل جو ہیلتھ کیئر ...      Sad    bad   \n",
       "4                     کیا ذو معنویت ہے سبحان اللہ 😜😊      Joy   good   \n",
       "\n",
       "                                        Cleaned_text  \n",
       "0                                             دونوں😍  \n",
       "1  مگر اک ملاقات توضروری صنم😉 محمد زبیر آرمی چیف ...  \n",
       "2  تاریک رات کو ماں باپ ملاپ رات ماں باپ بچہ کو ج...  \n",
       "3  شمالی وزیرستان ناہیدہ گل ہیلتھ کیئر ورکر کو سر...  \n",
       "4                            ذو معنویت سبحان اللہ 😜😊  "
      ]
     },
     "execution_count": 70,
     "metadata": {},
     "output_type": "execute_result"
    }
   ],
   "source": [
    "balanced_df.head()"
   ]
  },
  {
   "cell_type": "code",
   "execution_count": 71,
   "id": "f3e21551",
   "metadata": {
    "scrolled": true
   },
   "outputs": [
    {
     "data": {
      "text/plain": [
       "Values\n",
       "good    20000\n",
       "bad     20000\n",
       "Name: count, dtype: int64"
      ]
     },
     "execution_count": 71,
     "metadata": {},
     "output_type": "execute_result"
    }
   ],
   "source": [
    "balanced_df['Values'].value_counts()"
   ]
  },
  {
   "cell_type": "code",
   "execution_count": 72,
   "id": "182b0b1f",
   "metadata": {
    "scrolled": false
   },
   "outputs": [
    {
     "data": {
      "text/html": [
       "<div>\n",
       "<style scoped>\n",
       "    .dataframe tbody tr th:only-of-type {\n",
       "        vertical-align: middle;\n",
       "    }\n",
       "\n",
       "    .dataframe tbody tr th {\n",
       "        vertical-align: top;\n",
       "    }\n",
       "\n",
       "    .dataframe thead th {\n",
       "        text-align: right;\n",
       "    }\n",
       "</style>\n",
       "<table border=\"1\" class=\"dataframe\">\n",
       "  <thead>\n",
       "    <tr style=\"text-align: right;\">\n",
       "      <th></th>\n",
       "      <th>Text</th>\n",
       "      <th>Category</th>\n",
       "      <th>Values</th>\n",
       "      <th>Cleaned_text</th>\n",
       "    </tr>\n",
       "  </thead>\n",
       "  <tbody>\n",
       "    <tr>\n",
       "      <th>0</th>\n",
       "      <td>دونوں۔۔😍</td>\n",
       "      <td>Joy</td>\n",
       "      <td>good</td>\n",
       "      <td>دونوں😍</td>\n",
       "    </tr>\n",
       "    <tr>\n",
       "      <th>1</th>\n",
       "      <td>مگر اک ملاقات توضروری ہے صنم😉 محمد زبیر کا آرم...</td>\n",
       "      <td>Joy</td>\n",
       "      <td>good</td>\n",
       "      <td>مگر اک ملاقات توضروری صنم😉 محمد زبیر آرمی چیف ...</td>\n",
       "    </tr>\n",
       "    <tr>\n",
       "      <th>2</th>\n",
       "      <td>ایک تاریک رات کو ایک ماں اور ایک باپ کا ملاپ ہ...</td>\n",
       "      <td>['Joy']</td>\n",
       "      <td>good</td>\n",
       "      <td>تاریک رات کو ماں باپ ملاپ رات ماں باپ بچہ کو ج...</td>\n",
       "    </tr>\n",
       "    <tr>\n",
       "      <th>3</th>\n",
       "      <td>آج شمالی وزیرستان میں ناہیدہ گل جو ہیلتھ کیئر ...</td>\n",
       "      <td>Sad</td>\n",
       "      <td>bad</td>\n",
       "      <td>شمالی وزیرستان ناہیدہ گل ہیلتھ کیئر ورکر کو سر...</td>\n",
       "    </tr>\n",
       "    <tr>\n",
       "      <th>4</th>\n",
       "      <td>کیا ذو معنویت ہے سبحان اللہ 😜😊</td>\n",
       "      <td>Joy</td>\n",
       "      <td>good</td>\n",
       "      <td>ذو معنویت سبحان اللہ 😜😊</td>\n",
       "    </tr>\n",
       "  </tbody>\n",
       "</table>\n",
       "</div>"
      ],
      "text/plain": [
       "                                                Text Category Values  \\\n",
       "0                                           دونوں۔۔😍      Joy   good   \n",
       "1  مگر اک ملاقات توضروری ہے صنم😉 محمد زبیر کا آرم...      Joy   good   \n",
       "2  ایک تاریک رات کو ایک ماں اور ایک باپ کا ملاپ ہ...  ['Joy']   good   \n",
       "3  آج شمالی وزیرستان میں ناہیدہ گل جو ہیلتھ کیئر ...      Sad    bad   \n",
       "4                     کیا ذو معنویت ہے سبحان اللہ 😜😊      Joy   good   \n",
       "\n",
       "                                        Cleaned_text  \n",
       "0                                             دونوں😍  \n",
       "1  مگر اک ملاقات توضروری صنم😉 محمد زبیر آرمی چیف ...  \n",
       "2  تاریک رات کو ماں باپ ملاپ رات ماں باپ بچہ کو ج...  \n",
       "3  شمالی وزیرستان ناہیدہ گل ہیلتھ کیئر ورکر کو سر...  \n",
       "4                            ذو معنویت سبحان اللہ 😜😊  "
      ]
     },
     "execution_count": 72,
     "metadata": {},
     "output_type": "execute_result"
    }
   ],
   "source": [
    "balanced_df.head()"
   ]
  },
  {
   "cell_type": "code",
   "execution_count": 73,
   "id": "d69035bb",
   "metadata": {},
   "outputs": [
    {
     "data": {
      "image/png": "[encoded data removed]",
      "text/plain": [
       "<Figure size 640x480 with 1 Axes>"
      ]
     },
     "metadata": {},
     "output_type": "display_data"
    },
    {
     "data": {
      "image/png": "[encoded data removed]",
      "text/plain": [
       "<Figure size 640x480 with 1 Axes>"
      ]
     },
     "metadata": {},
     "output_type": "display_data"
    }
   ],
   "source": [
    "import seaborn as sns\n",
    "\n",
    "# Before balancing\n",
    "sns.countplot(x='Values', data=df)\n",
    "plt.title('Sentiment Distribution Before Balancing')\n",
    "plt.show()\n",
    "\n",
    "# After balancing\n",
    "sns.countplot(x='Values', data=balanced_df)\n",
    "plt.title('Sentiment Distribution After Balancing')\n",
    "plt.show()\n"
   ]
  },
  {
   "cell_type": "markdown",
   "id": "2319b245",
   "metadata": {},
   "source": [
    "# Encoding target col"
   ]
  },
  {
   "cell_type": "code",
   "execution_count": 74,
   "id": "ba427541",
   "metadata": {},
   "outputs": [],
   "source": [
    "from sklearn.preprocessing import LabelEncoder\n",
    "\n",
    "le = LabelEncoder()"
   ]
  },
  {
   "cell_type": "code",
   "execution_count": 75,
   "id": "9a1d5836",
   "metadata": {},
   "outputs": [],
   "source": [
    "balanced_df['Values'] = le.fit_transform(balanced_df['Values'])"
   ]
  },
  {
   "cell_type": "code",
   "execution_count": 76,
   "id": "f609855b",
   "metadata": {},
   "outputs": [
    {
     "data": {
      "text/plain": [
       "0        1\n",
       "1        1\n",
       "2        1\n",
       "3        0\n",
       "4        1\n",
       "        ..\n",
       "39995    1\n",
       "39996    0\n",
       "39997    1\n",
       "39998    1\n",
       "39999    0\n",
       "Name: Values, Length: 40000, dtype: int32"
      ]
     },
     "execution_count": 76,
     "metadata": {},
     "output_type": "execute_result"
    }
   ],
   "source": [
    "balanced_df['Values']"
   ]
  },
  {
   "cell_type": "markdown",
   "id": "78c85d59",
   "metadata": {},
   "source": [
    "# Splitting"
   ]
  },
  {
   "cell_type": "code",
   "execution_count": 77,
   "id": "9e353496",
   "metadata": {},
   "outputs": [],
   "source": [
    "x = balanced_df['Cleaned_text']\n",
    "y = balanced_df['Values']"
   ]
  },
  {
   "cell_type": "code",
   "execution_count": 78,
   "id": "95fb41f2",
   "metadata": {},
   "outputs": [
    {
     "data": {
      "text/plain": [
       "Values\n",
       "1    20000\n",
       "0    20000\n",
       "Name: count, dtype: int64"
      ]
     },
     "execution_count": 78,
     "metadata": {},
     "output_type": "execute_result"
    }
   ],
   "source": [
    "y.value_counts()"
   ]
  },
  {
   "cell_type": "code",
   "execution_count": 79,
   "id": "24485185",
   "metadata": {},
   "outputs": [
    {
     "data": {
      "text/html": [
       "<div>\n",
       "<style scoped>\n",
       "    .dataframe tbody tr th:only-of-type {\n",
       "        vertical-align: middle;\n",
       "    }\n",
       "\n",
       "    .dataframe tbody tr th {\n",
       "        vertical-align: top;\n",
       "    }\n",
       "\n",
       "    .dataframe thead th {\n",
       "        text-align: right;\n",
       "    }\n",
       "</style>\n",
       "<table border=\"1\" class=\"dataframe\">\n",
       "  <thead>\n",
       "    <tr style=\"text-align: right;\">\n",
       "      <th></th>\n",
       "      <th>Text</th>\n",
       "      <th>Category</th>\n",
       "      <th>Values</th>\n",
       "      <th>Cleaned_text</th>\n",
       "    </tr>\n",
       "  </thead>\n",
       "  <tbody>\n",
       "    <tr>\n",
       "      <th>0</th>\n",
       "      <td>دونوں۔۔😍</td>\n",
       "      <td>Joy</td>\n",
       "      <td>1</td>\n",
       "      <td>دونوں😍</td>\n",
       "    </tr>\n",
       "    <tr>\n",
       "      <th>1</th>\n",
       "      <td>مگر اک ملاقات توضروری ہے صنم😉 محمد زبیر کا آرم...</td>\n",
       "      <td>Joy</td>\n",
       "      <td>1</td>\n",
       "      <td>مگر اک ملاقات توضروری صنم😉 محمد زبیر آرمی چیف ...</td>\n",
       "    </tr>\n",
       "    <tr>\n",
       "      <th>2</th>\n",
       "      <td>ایک تاریک رات کو ایک ماں اور ایک باپ کا ملاپ ہ...</td>\n",
       "      <td>['Joy']</td>\n",
       "      <td>1</td>\n",
       "      <td>تاریک رات کو ماں باپ ملاپ رات ماں باپ بچہ کو ج...</td>\n",
       "    </tr>\n",
       "    <tr>\n",
       "      <th>3</th>\n",
       "      <td>آج شمالی وزیرستان میں ناہیدہ گل جو ہیلتھ کیئر ...</td>\n",
       "      <td>Sad</td>\n",
       "      <td>0</td>\n",
       "      <td>شمالی وزیرستان ناہیدہ گل ہیلتھ کیئر ورکر کو سر...</td>\n",
       "    </tr>\n",
       "    <tr>\n",
       "      <th>4</th>\n",
       "      <td>کیا ذو معنویت ہے سبحان اللہ 😜😊</td>\n",
       "      <td>Joy</td>\n",
       "      <td>1</td>\n",
       "      <td>ذو معنویت سبحان اللہ 😜😊</td>\n",
       "    </tr>\n",
       "    <tr>\n",
       "      <th>...</th>\n",
       "      <td>...</td>\n",
       "      <td>...</td>\n",
       "      <td>...</td>\n",
       "      <td>...</td>\n",
       "    </tr>\n",
       "    <tr>\n",
       "      <th>39995</th>\n",
       "      <td>شکریہ سلامتی ہو😂😂😘</td>\n",
       "      <td>Joy</td>\n",
       "      <td>1</td>\n",
       "      <td>شکریہ سلامتی ہو😂😂😘</td>\n",
       "    </tr>\n",
       "    <tr>\n",
       "      <th>39996</th>\n",
       "      <td>*Very impoant message* 😭😭😭😭😭 *تنظیم سازی* کرتے...</td>\n",
       "      <td>Sad</td>\n",
       "      <td>0</td>\n",
       "      <td>very impoant message 😭😭😭😭😭 تنظیم سازی کرنا وقت...</td>\n",
       "    </tr>\n",
       "    <tr>\n",
       "      <th>39997</th>\n",
       "      <td>*اُستاد ناچنے اور کاٹنے میں کیا فرق ھے؟ *شاگرد...</td>\n",
       "      <td>['Joy']</td>\n",
       "      <td>1</td>\n",
       "      <td>استاد ناچنا کاٹنا فرق ھے شاگرد تقریر ذکر کرہ ت...</td>\n",
       "    </tr>\n",
       "    <tr>\n",
       "      <th>39998</th>\n",
       "      <td>کاش آپ نے بھتہ مافیا اور ٹارگٹ کلرز، چائنا کٹن...</td>\n",
       "      <td>Joy</td>\n",
       "      <td>1</td>\n",
       "      <td>کاش بھتہ مافیا ٹارگٹ کلرز چائنا کٹنگ والا ایسا...</td>\n",
       "    </tr>\n",
       "    <tr>\n",
       "      <th>39999</th>\n",
       "      <td>شاباش پاکستان 👍 چھوڑنا نہیں سب حرامخورں کو😠</td>\n",
       "      <td>Angry</td>\n",
       "      <td>0</td>\n",
       "      <td>شاباش پاکستان 👍 چھوڑنا حرامخورں کو😠</td>\n",
       "    </tr>\n",
       "  </tbody>\n",
       "</table>\n",
       "<p>40000 rows × 4 columns</p>\n",
       "</div>"
      ],
      "text/plain": [
       "                                                    Text Category  Values  \\\n",
       "0                                               دونوں۔۔😍      Joy       1   \n",
       "1      مگر اک ملاقات توضروری ہے صنم😉 محمد زبیر کا آرم...      Joy       1   \n",
       "2      ایک تاریک رات کو ایک ماں اور ایک باپ کا ملاپ ہ...  ['Joy']       1   \n",
       "3      آج شمالی وزیرستان میں ناہیدہ گل جو ہیلتھ کیئر ...      Sad       0   \n",
       "4                         کیا ذو معنویت ہے سبحان اللہ 😜😊      Joy       1   \n",
       "...                                                  ...      ...     ...   \n",
       "39995                                 شکریہ سلامتی ہو😂😂😘      Joy       1   \n",
       "39996  *Very impoant message* 😭😭😭😭😭 *تنظیم سازی* کرتے...      Sad       0   \n",
       "39997  *اُستاد ناچنے اور کاٹنے میں کیا فرق ھے؟ *شاگرد...  ['Joy']       1   \n",
       "39998  کاش آپ نے بھتہ مافیا اور ٹارگٹ کلرز، چائنا کٹن...      Joy       1   \n",
       "39999        شاباش پاکستان 👍 چھوڑنا نہیں سب حرامخورں کو😠    Angry       0   \n",
       "\n",
       "                                            Cleaned_text  \n",
       "0                                                 دونوں😍  \n",
       "1      مگر اک ملاقات توضروری صنم😉 محمد زبیر آرمی چیف ...  \n",
       "2      تاریک رات کو ماں باپ ملاپ رات ماں باپ بچہ کو ج...  \n",
       "3      شمالی وزیرستان ناہیدہ گل ہیلتھ کیئر ورکر کو سر...  \n",
       "4                                ذو معنویت سبحان اللہ 😜😊  \n",
       "...                                                  ...  \n",
       "39995                                 شکریہ سلامتی ہو😂😂😘  \n",
       "39996  very impoant message 😭😭😭😭😭 تنظیم سازی کرنا وقت...  \n",
       "39997  استاد ناچنا کاٹنا فرق ھے شاگرد تقریر ذکر کرہ ت...  \n",
       "39998  کاش بھتہ مافیا ٹارگٹ کلرز چائنا کٹنگ والا ایسا...  \n",
       "39999                شاباش پاکستان 👍 چھوڑنا حرامخورں کو😠  \n",
       "\n",
       "[40000 rows x 4 columns]"
      ]
     },
     "execution_count": 79,
     "metadata": {},
     "output_type": "execute_result"
    }
   ],
   "source": [
    "balanced_df"
   ]
  },
  {
   "cell_type": "code",
   "execution_count": 80,
   "id": "8464073f",
   "metadata": {},
   "outputs": [],
   "source": [
    "\n",
    "# Split the dataset into training and test sets\n",
    "x_train, x_test, y_train, y_test = train_test_split(x, y, test_size=0.2, random_state=42)\n"
   ]
  },
  {
   "cell_type": "code",
   "execution_count": 81,
   "id": "8f3372bb",
   "metadata": {},
   "outputs": [
    {
     "data": {
      "text/plain": [
       "((32000,), (32000,))"
      ]
     },
     "execution_count": 81,
     "metadata": {},
     "output_type": "execute_result"
    }
   ],
   "source": [
    "x_train.shape, y_train.shape"
   ]
  },
  {
   "cell_type": "markdown",
   "id": "b4854f0f",
   "metadata": {},
   "source": [
    "\n",
    "# Machine Learning"
   ]
  },
  {
   "cell_type": "code",
   "execution_count": null,
   "id": "b1bd6ee0",
   "metadata": {},
   "outputs": [],
   "source": []
  },
  {
   "cell_type": "code",
   "execution_count": 107,
   "id": "8468ce4e",
   "metadata": {},
   "outputs": [
    {
     "name": "stdout",
     "output_type": "stream",
     "text": [
      "Shape of training TF-IDF vectors: (32000, 12000)\n",
      "Shape of test TF-IDF vectors: (8000, 12000)\n"
     ]
    }
   ],
   "source": [
    "import pandas as pd\n",
    "from sklearn.model_selection import train_test_split\n",
    "from sklearn.feature_extraction.text import TfidfVectorizer\n",
    "from sklearn.ensemble import RandomForestClassifier\n",
    "from sklearn.metrics import accuracy_score, classification_report\n",
    "\n",
    "# Feature extraction using TF-IDF and outputting a sparse matrix\n",
    "vectorizer = TfidfVectorizer(max_features=12000)\n",
    "X_train_vectorized = vectorizer.fit_transform(x_train)\n",
    "X_test_vectorized = vectorizer.transform(x_test)\n",
    "\n",
    "# Check the shape of the resulting vectors\n",
    "print(\"Shape of training TF-IDF vectors:\", X_train_vectorized.shape)\n",
    "print(\"Shape of test TF-IDF vectors:\", X_test_vectorized.shape)\n",
    "\n"
   ]
  },
  {
   "cell_type": "code",
   "execution_count": 108,
   "id": "a333a798",
   "metadata": {},
   "outputs": [
    {
     "data": {
      "text/plain": [
       "<32000x12000 sparse matrix of type '<class 'numpy.float64'>'\n",
       "\twith 285019 stored elements in Compressed Sparse Row format>"
      ]
     },
     "execution_count": 108,
     "metadata": {},
     "output_type": "execute_result"
    }
   ],
   "source": [
    "X_train_vectorized"
   ]
  },
  {
   "cell_type": "markdown",
   "id": "219cd3da",
   "metadata": {},
   "source": [
    "## Smote"
   ]
  },
  {
   "cell_type": "code",
   "execution_count": 109,
   "id": "38ef7770",
   "metadata": {},
   "outputs": [],
   "source": [
    "# smote = SMOTE(random_state=42)\n",
    "# X_train_resampled, y_train_resampled = smote.fit_resample(X_train, y_train)\n"
   ]
  },
  {
   "cell_type": "markdown",
   "id": "3472f295",
   "metadata": {},
   "source": [
    "## GridSearchCV"
   ]
  },
  {
   "cell_type": "code",
   "execution_count": 110,
   "id": "f470696f",
   "metadata": {},
   "outputs": [],
   "source": [
    "# from sklearn.model_selection import GridSearchCV\n",
    "\n",
    "# param_grid = {\n",
    "#     'n_estimators': [50, 100, 200],\n",
    "#     'max_features': ['sqrt', 'log2'],\n",
    "#     'max_depth': [None, 10, 20, 30],\n",
    "# }\n",
    "\n",
    "# grid_search = GridSearchCV(estimator=model, param_grid=param_grid, cv=3, n_jobs=-1, verbose=2)\n",
    "# grid_search.fit(X_train, y_train)\n",
    "\n",
    "# print(f\"Best parameters: {grid_search.best_params_}\")\n"
   ]
  },
  {
   "cell_type": "markdown",
   "id": "c708ec92",
   "metadata": {},
   "source": [
    "## Trainig Model (Random Forest)"
   ]
  },
  {
   "cell_type": "code",
   "execution_count": 111,
   "id": "1c2445ba",
   "metadata": {},
   "outputs": [
    {
     "data": {
      "text/html": [
       "<style>#sk-container-id-8 {color: black;background-color: white;}#sk-container-id-8 pre{padding: 0;}#sk-container-id-8 div.sk-toggleable {background-color: white;}#sk-container-id-8 label.sk-toggleable__label {cursor: pointer;display: block;width: 100%;margin-bottom: 0;padding: 0.3em;box-sizing: border-box;text-align: center;}#sk-container-id-8 label.sk-toggleable__label-arrow:before {content: \"▸\";float: left;margin-right: 0.25em;color: #696969;}#sk-container-id-8 label.sk-toggleable__label-arrow:hover:before {color: black;}#sk-container-id-8 div.sk-estimator:hover label.sk-toggleable__label-arrow:before {color: black;}#sk-container-id-8 div.sk-toggleable__content {max-height: 0;max-width: 0;overflow: hidden;text-align: left;background-color: #f0f8ff;}#sk-container-id-8 div.sk-toggleable__content pre {margin: 0.2em;color: black;border-radius: 0.25em;background-color: #f0f8ff;}#sk-container-id-8 input.sk-toggleable__control:checked~div.sk-toggleable__content {max-height: 200px;max-width: 100%;overflow: auto;}#sk-container-id-8 input.sk-toggleable__control:checked~label.sk-toggleable__label-arrow:before {content: \"▾\";}#sk-container-id-8 div.sk-estimator input.sk-toggleable__control:checked~label.sk-toggleable__label {background-color: #d4ebff;}#sk-container-id-8 div.sk-label input.sk-toggleable__control:checked~label.sk-toggleable__label {background-color: #d4ebff;}#sk-container-id-8 input.sk-hidden--visually {border: 0;clip: rect(1px 1px 1px 1px);clip: rect(1px, 1px, 1px, 1px);height: 1px;margin: -1px;overflow: hidden;padding: 0;position: absolute;width: 1px;}#sk-container-id-8 div.sk-estimator {font-family: monospace;background-color: #f0f8ff;border: 1px dotted black;border-radius: 0.25em;box-sizing: border-box;margin-bottom: 0.5em;}#sk-container-id-8 div.sk-estimator:hover {background-color: #d4ebff;}#sk-container-id-8 div.sk-parallel-item::after {content: \"\";width: 100%;border-bottom: 1px solid gray;flex-grow: 1;}#sk-container-id-8 div.sk-label:hover label.sk-toggleable__label {background-color: #d4ebff;}#sk-container-id-8 div.sk-serial::before {content: \"\";position: absolute;border-left: 1px solid gray;box-sizing: border-box;top: 0;bottom: 0;left: 50%;z-index: 0;}#sk-container-id-8 div.sk-serial {display: flex;flex-direction: column;align-items: center;background-color: white;padding-right: 0.2em;padding-left: 0.2em;position: relative;}#sk-container-id-8 div.sk-item {position: relative;z-index: 1;}#sk-container-id-8 div.sk-parallel {display: flex;align-items: stretch;justify-content: center;background-color: white;position: relative;}#sk-container-id-8 div.sk-item::before, #sk-container-id-8 div.sk-parallel-item::before {content: \"\";position: absolute;border-left: 1px solid gray;box-sizing: border-box;top: 0;bottom: 0;left: 50%;z-index: -1;}#sk-container-id-8 div.sk-parallel-item {display: flex;flex-direction: column;z-index: 1;position: relative;background-color: white;}#sk-container-id-8 div.sk-parallel-item:first-child::after {align-self: flex-end;width: 50%;}#sk-container-id-8 div.sk-parallel-item:last-child::after {align-self: flex-start;width: 50%;}#sk-container-id-8 div.sk-parallel-item:only-child::after {width: 0;}#sk-container-id-8 div.sk-dashed-wrapped {border: 1px dashed gray;margin: 0 0.4em 0.5em 0.4em;box-sizing: border-box;padding-bottom: 0.4em;background-color: white;}#sk-container-id-8 div.sk-label label {font-family: monospace;font-weight: bold;display: inline-block;line-height: 1.2em;}#sk-container-id-8 div.sk-label-container {text-align: center;}#sk-container-id-8 div.sk-container {/* jupyter's `normalize.less` sets `[hidden] { display: none; }` but bootstrap.min.css set `[hidden] { display: none !important; }` so we also need the `!important` here to be able to override the default hidden behavior on the sphinx rendered scikit-learn.org. See: https://github.com/scikit-learn/scikit-learn/issues/21755 */display: inline-block !important;position: relative;}#sk-container-id-8 div.sk-text-repr-fallback {display: none;}</style><div id=\"sk-container-id-8\" class=\"sk-top-container\"><div class=\"sk-text-repr-fallback\"><pre>RandomForestClassifier(random_state=42)</pre><b>In a Jupyter environment, please rerun this cell to show the HTML representation or trust the notebook. <br />On GitHub, the HTML representation is unable to render, please try loading this page with nbviewer.org.</b></div><div class=\"sk-container\" hidden><div class=\"sk-item\"><div class=\"sk-estimator sk-toggleable\"><input class=\"sk-toggleable__control sk-hidden--visually\" id=\"sk-estimator-id-8\" type=\"checkbox\" checked><label for=\"sk-estimator-id-8\" class=\"sk-toggleable__label sk-toggleable__label-arrow\">RandomForestClassifier</label><div class=\"sk-toggleable__content\"><pre>RandomForestClassifier(random_state=42)</pre></div></div></div></div></div>"
      ],
      "text/plain": [
       "RandomForestClassifier(random_state=42)"
      ]
     },
     "execution_count": 111,
     "metadata": {},
     "output_type": "execute_result"
    }
   ],
   "source": [
    "# Train a Random Forest Classifier\n",
    "model = RandomForestClassifier(n_estimators=100, random_state=42)\n",
    "model.fit(X_train_vectorized, y_train)\n"
   ]
  },
  {
   "cell_type": "code",
   "execution_count": 112,
   "id": "01830772",
   "metadata": {},
   "outputs": [],
   "source": [
    "# Make predictions\n",
    "y_pred = model.predict(X_test_vectorized)"
   ]
  },
  {
   "cell_type": "code",
   "execution_count": 113,
   "id": "cd9c56db",
   "metadata": {},
   "outputs": [
    {
     "name": "stdout",
     "output_type": "stream",
     "text": [
      "Accuracy: 0.82775\n",
      "              precision    recall  f1-score   support\n",
      "\n",
      "           0       0.82      0.84      0.83      3999\n",
      "           1       0.84      0.81      0.82      4001\n",
      "\n",
      "    accuracy                           0.83      8000\n",
      "   macro avg       0.83      0.83      0.83      8000\n",
      "weighted avg       0.83      0.83      0.83      8000\n",
      "\n"
     ]
    }
   ],
   "source": [
    "\n",
    "# Evaluate the model\n",
    "print(\"Accuracy:\", accuracy_score(y_test, y_pred))\n",
    "print(classification_report(y_test, y_pred))\n"
   ]
  },
  {
   "cell_type": "markdown",
   "id": "9d939c09",
   "metadata": {},
   "source": [
    "## Testing By Giving New Tweets"
   ]
  },
  {
   "cell_type": "code",
   "execution_count": 114,
   "id": "fe7ae5db",
   "metadata": {
    "scrolled": true
   },
   "outputs": [
    {
     "name": "stdout",
     "output_type": "stream",
     "text": [
      "Tweet: یہ دن بہت خوبصورت ہے\n",
      "Predicted Sentiment: Good\n",
      "--------------------------------------------------\n",
      "Tweet: آج کا دن برا تھا\n",
      "Predicted Sentiment: Bad\n",
      "--------------------------------------------------\n",
      "Tweet: یہ صورتحال کافی عجیب ہے\n",
      "Predicted Sentiment: Good\n",
      "--------------------------------------------------\n",
      "Tweet: مجھے اس بات پر حیرت ہے\n",
      "Predicted Sentiment: Bad\n",
      "--------------------------------------------------\n",
      "Tweet: یہ ایک مشکل وقت ہے\n",
      "Predicted Sentiment: Bad\n",
      "--------------------------------------------------\n",
      "Tweet: زندگی بہت خوبصورت ہے، ہر لمحہ قیمتی ہے 😍\n",
      "Predicted Sentiment: Bad\n",
      "--------------------------------------------------\n",
      "Tweet: مجھے اس صورتحال سے شدید خوف محسوس ہو رہا ہے 😨\n",
      "Predicted Sentiment: Bad\n",
      "--------------------------------------------------\n",
      "Tweet: یہ دن بہت برا گزر رہا ہے، سب کچھ خراب ہو گیا 😔\n",
      "Predicted Sentiment: Bad\n",
      "--------------------------------------------------\n",
      "Tweet: یہ جیت بہت زبردست تھی، مجھے خوشی ہے کہ ہم جیتے 🎉\n",
      "Predicted Sentiment: Good\n",
      "--------------------------------------------------\n",
      "Tweet: ان لوگوں کا رویہ بہت برا ہے، میں ان سے تنگ ہوں 😡\n",
      "Predicted Sentiment: Bad\n",
      "--------------------------------------------------\n",
      "Tweet: مجھے یقین نہیں آ رہا کہ یہ کیسے ممکن ہو سکتا ہے 🤔\n",
      "Predicted Sentiment: Bad\n",
      "--------------------------------------------------\n"
     ]
    }
   ],
   "source": [
    "from sklearn.feature_extraction.text import TfidfVectorizer\n",
    "\n",
    "# Sample test tweets\n",
    "test_tweets = [\n",
    "    \"یہ دن بہت خوبصورت ہے\",           # Good (positive)\n",
    "    \"آج کا دن برا تھا\",                 # Bad (negative)\n",
    "    \"یہ صورتحال کافی عجیب ہے\",         # Neutral\n",
    "    \"مجھے اس بات پر حیرت ہے\",            # Mixed\n",
    "    \"یہ ایک مشکل وقت ہے\" ,              # Bad (negative)\n",
    "    \"زندگی بہت خوبصورت ہے، ہر لمحہ قیمتی ہے 😍\", # Good\n",
    "    \"مجھے اس صورتحال سے شدید خوف محسوس ہو رہا ہے 😨\", # Fear\n",
    "    \"یہ دن بہت برا گزر رہا ہے، سب کچھ خراب ہو گیا 😔\", # Bad\n",
    "    \"یہ جیت بہت زبردست تھی، مجھے خوشی ہے کہ ہم جیتے 🎉\", # Good\n",
    "    \"ان لوگوں کا رویہ بہت برا ہے، میں ان سے تنگ ہوں 😡\", # Bad\n",
    "    \"مجھے یقین نہیں آ رہا کہ یہ کیسے ممکن ہو سکتا ہے 🤔\", # Good\n",
    "]\n",
    "\n",
    "# Preprocess function for test tweets (uses same preprocessing logic as training)\n",
    "def preprocess_test_tweets(text):\n",
    "    text = text.lower()  # Convert text to lowercase\n",
    "    text = ''.join(c for c in text if c.isalnum() or c in emoji.EMOJI_DATA or c.isspace())  # Keep only alphanumeric and emojis\n",
    "    words = word_tokenize(text)  # Tokenize the text\n",
    "    words = [word for word in words if word not in urdu_stopwords]  # Remove stopwords\n",
    "    return ' '.join(words)  # Rejoin the words\n",
    "\n",
    "# Preprocess test tweets\n",
    "cleaned_test_tweets = [preprocess_test_tweets(tweet) for tweet in test_tweets]\n",
    "\n",
    "# Convert test tweets to TF-IDF features using the same vectorizer\n",
    "X_test_tweets = vectorizer.transform(cleaned_test_tweets).toarray()\n",
    "\n",
    "# Predict the sentiment for test tweets\n",
    "y_pred_tweets = model.predict(X_test_tweets)\n",
    "\n",
    "# Display the predictions\n",
    "for i, tweet in enumerate(test_tweets):\n",
    "    sentiment = \"Good\" if y_pred_tweets[i] == 1 else \"Bad\"\n",
    "    print(f\"Tweet: {tweet}\")\n",
    "    print(f\"Predicted Sentiment: {sentiment}\")\n",
    "    print(\"-\" * 50)\n",
    "\n"
   ]
  },
  {
   "cell_type": "code",
   "execution_count": null,
   "id": "7eb5bf1d",
   "metadata": {},
   "outputs": [],
   "source": []
  }
 ],
 "metadata": {
  "kernelspec": {
   "display_name": "Python 3 (ipykernel)",
   "language": "python",
   "name": "python3"
  },
  "language_info": {
   "codemirror_mode": {
    "name": "ipython",
    "version": 3
   },
   "file_extension": ".py",
   "mimetype": "text/x-python",
   "name": "python",
   "nbconvert_exporter": "python",
   "pygments_lexer": "ipython3",
   "version": "3.10.9"
  }
 },
 "nbformat": 4,
 "nbformat_minor": 5
}
